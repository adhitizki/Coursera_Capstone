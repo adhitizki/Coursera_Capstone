{
  "nbformat": 4,
  "nbformat_minor": 0,
  "metadata": {
    "colab": {
      "name": "Untitled1.ipynb",
      "provenance": []
    },
    "kernelspec": {
      "name": "python3",
      "display_name": "Python 3"
    },
    "language_info": {
      "name": "python"
    }
  },
  "cells": [
    {
      "cell_type": "code",
      "metadata": {
        "id": "e12kTRXHQiJX"
      },
      "source": [
        "import pandas as pd\n",
        "import requests\n",
        "from bs4 import BeautifulSoup"
      ],
      "execution_count": 26,
      "outputs": []
    },
    {
      "cell_type": "code",
      "metadata": {
        "id": "Wbh0qsvRQn1n"
      },
      "source": [
        "url = 'https://en.wikipedia.org/wiki/List_of_postal_codes_of_Canada:_M'\n",
        "html_data = requests.get(url).text"
      ],
      "execution_count": 27,
      "outputs": []
    },
    {
      "cell_type": "markdown",
      "metadata": {
        "id": "p5GSyCNr4iNU"
      },
      "source": [
        "Get Toronto postal code data from wikipedia with the url above"
      ]
    },
    {
      "cell_type": "code",
      "metadata": {
        "id": "7q_bv_GxQnzI"
      },
      "source": [
        "soup = BeautifulSoup(html_data,'html5lib')"
      ],
      "execution_count": 28,
      "outputs": []
    },
    {
      "cell_type": "markdown",
      "metadata": {
        "id": "IChBBxVY4hzi"
      },
      "source": [
        "Using the BeautifulSoup library to perform web scraping on the specified url page"
      ]
    },
    {
      "cell_type": "code",
      "metadata": {
        "id": "xyfIgT_yfVc9"
      },
      "source": [
        "raw = []\n",
        "for row in soup.find('table').find_all('td'):\n",
        "  raw_row = {}\n",
        "  if row.find('span').text == 'Not assigned':\n",
        "    pass\n",
        "\n",
        "  else:    \n",
        "    var = row.find('span').text.split('(')\n",
        "\n",
        "    raw_row['Postal Code'] = row.find('b').text\n",
        "    raw_row['Borough'] = var[0]\n",
        "    raw_row['Neighborhood'] = var[1]\n",
        "\n",
        "    raw.append(raw_row)"
      ],
      "execution_count": 29,
      "outputs": []
    },
    {
      "cell_type": "markdown",
      "metadata": {
        "id": "u87wSAtp4f0c"
      },
      "source": [
        "It can be seen that the data you want to get is in the table, in the table it can be seen that in the span group there are borough and neighborhood, while for the Postal Code it is in the first 'b' group."
      ]
    },
    {
      "cell_type": "code",
      "metadata": {
        "colab": {
          "base_uri": "https://localhost:8080/",
          "height": 195
        },
        "id": "eKntG2OA6aNL",
        "outputId": "d4e1049b-fd10-4e5d-bbbf-3ea9945c313a"
      },
      "source": [
        "df = pd.DataFrame(raw)\n",
        "df.head()"
      ],
      "execution_count": 30,
      "outputs": [
        {
          "output_type": "execute_result",
          "data": {
            "text/html": [
              "<div>\n",
              "<style scoped>\n",
              "    .dataframe tbody tr th:only-of-type {\n",
              "        vertical-align: middle;\n",
              "    }\n",
              "\n",
              "    .dataframe tbody tr th {\n",
              "        vertical-align: top;\n",
              "    }\n",
              "\n",
              "    .dataframe thead th {\n",
              "        text-align: right;\n",
              "    }\n",
              "</style>\n",
              "<table border=\"1\" class=\"dataframe\">\n",
              "  <thead>\n",
              "    <tr style=\"text-align: right;\">\n",
              "      <th></th>\n",
              "      <th>Postal Code</th>\n",
              "      <th>Borough</th>\n",
              "      <th>Neighborhood</th>\n",
              "    </tr>\n",
              "  </thead>\n",
              "  <tbody>\n",
              "    <tr>\n",
              "      <th>0</th>\n",
              "      <td>M3A</td>\n",
              "      <td>North York</td>\n",
              "      <td>Parkwoods)</td>\n",
              "    </tr>\n",
              "    <tr>\n",
              "      <th>1</th>\n",
              "      <td>M4A</td>\n",
              "      <td>North York</td>\n",
              "      <td>Victoria Village)</td>\n",
              "    </tr>\n",
              "    <tr>\n",
              "      <th>2</th>\n",
              "      <td>M5A</td>\n",
              "      <td>Downtown Toronto</td>\n",
              "      <td>Regent Park / Harbourfront)</td>\n",
              "    </tr>\n",
              "    <tr>\n",
              "      <th>3</th>\n",
              "      <td>M6A</td>\n",
              "      <td>North York</td>\n",
              "      <td>Lawrence Manor / Lawrence Heights)</td>\n",
              "    </tr>\n",
              "    <tr>\n",
              "      <th>4</th>\n",
              "      <td>M7A</td>\n",
              "      <td>Queen's Park</td>\n",
              "      <td>Ontario Provincial Government)</td>\n",
              "    </tr>\n",
              "  </tbody>\n",
              "</table>\n",
              "</div>"
            ],
            "text/plain": [
              "  Postal Code           Borough                        Neighborhood\n",
              "0         M3A        North York                          Parkwoods)\n",
              "1         M4A        North York                   Victoria Village)\n",
              "2         M5A  Downtown Toronto         Regent Park / Harbourfront)\n",
              "3         M6A        North York  Lawrence Manor / Lawrence Heights)\n",
              "4         M7A      Queen's Park      Ontario Provincial Government)"
            ]
          },
          "metadata": {
            "tags": []
          },
          "execution_count": 30
        }
      ]
    },
    {
      "cell_type": "code",
      "metadata": {
        "id": "4XJK4-RCp1g0"
      },
      "source": [
        "df['Neighborhood'] = df['Neighborhood'].str.replace(r'\\)$|\\s$','').str.replace(r'\\)',' ').str.replace(r'\\s/',', ')\n",
        "df['Borough'] = df['Borough'].replace({\n",
        "    'Downtown TorontoStn A PO Boxes25 The Esplanade':'Downtown Toronto Stn A',\n",
        "    'East TorontoBusiness reply mail Processing Centre969 Eastern':'East Toronto Business',\n",
        "    'EtobicokeNorthwest':'Etobicoke Northwest',\n",
        "    'East YorkEast Toronto':'East York/East Toronto',\n",
        "    'MississaugaCanada Post Gateway Processing Centre':'Mississauga'\n",
        "    })"
      ],
      "execution_count": 31,
      "outputs": []
    },
    {
      "cell_type": "markdown",
      "metadata": {
        "id": "LXP6o_Lc4gXz"
      },
      "source": [
        "Neighborhood features are still very dirty with ')', '/', ''. Therefore, it is cleaned and tidied using replace and regex.\n",
        "For Borough, there are some data that are not suitable, such as PO Boxes and others, so they need to be filtered and replaced with the appropriate data "
      ]
    },
    {
      "cell_type": "code",
      "metadata": {
        "colab": {
          "base_uri": "https://localhost:8080/",
          "height": 402
        },
        "id": "uLzwuJrr2_1R",
        "outputId": "2630578a-f922-4cd6-d38b-b7bc61b554ed"
      },
      "source": [
        "df"
      ],
      "execution_count": 32,
      "outputs": [
        {
          "output_type": "execute_result",
          "data": {
            "text/html": [
              "<div>\n",
              "<style scoped>\n",
              "    .dataframe tbody tr th:only-of-type {\n",
              "        vertical-align: middle;\n",
              "    }\n",
              "\n",
              "    .dataframe tbody tr th {\n",
              "        vertical-align: top;\n",
              "    }\n",
              "\n",
              "    .dataframe thead th {\n",
              "        text-align: right;\n",
              "    }\n",
              "</style>\n",
              "<table border=\"1\" class=\"dataframe\">\n",
              "  <thead>\n",
              "    <tr style=\"text-align: right;\">\n",
              "      <th></th>\n",
              "      <th>Postal Code</th>\n",
              "      <th>Borough</th>\n",
              "      <th>Neighborhood</th>\n",
              "    </tr>\n",
              "  </thead>\n",
              "  <tbody>\n",
              "    <tr>\n",
              "      <th>0</th>\n",
              "      <td>M3A</td>\n",
              "      <td>North York</td>\n",
              "      <td>Parkwoods</td>\n",
              "    </tr>\n",
              "    <tr>\n",
              "      <th>1</th>\n",
              "      <td>M4A</td>\n",
              "      <td>North York</td>\n",
              "      <td>Victoria Village</td>\n",
              "    </tr>\n",
              "    <tr>\n",
              "      <th>2</th>\n",
              "      <td>M5A</td>\n",
              "      <td>Downtown Toronto</td>\n",
              "      <td>Regent Park,  Harbourfront</td>\n",
              "    </tr>\n",
              "    <tr>\n",
              "      <th>3</th>\n",
              "      <td>M6A</td>\n",
              "      <td>North York</td>\n",
              "      <td>Lawrence Manor,  Lawrence Heights</td>\n",
              "    </tr>\n",
              "    <tr>\n",
              "      <th>4</th>\n",
              "      <td>M7A</td>\n",
              "      <td>Queen's Park</td>\n",
              "      <td>Ontario Provincial Government</td>\n",
              "    </tr>\n",
              "    <tr>\n",
              "      <th>...</th>\n",
              "      <td>...</td>\n",
              "      <td>...</td>\n",
              "      <td>...</td>\n",
              "    </tr>\n",
              "    <tr>\n",
              "      <th>98</th>\n",
              "      <td>M8X</td>\n",
              "      <td>Etobicoke</td>\n",
              "      <td>The Kingsway,  Montgomery Road,  Old Mill North</td>\n",
              "    </tr>\n",
              "    <tr>\n",
              "      <th>99</th>\n",
              "      <td>M4Y</td>\n",
              "      <td>Downtown Toronto</td>\n",
              "      <td>Church and Wellesley</td>\n",
              "    </tr>\n",
              "    <tr>\n",
              "      <th>100</th>\n",
              "      <td>M7Y</td>\n",
              "      <td>East Toronto Business</td>\n",
              "      <td>Enclave of M4L</td>\n",
              "    </tr>\n",
              "    <tr>\n",
              "      <th>101</th>\n",
              "      <td>M8Y</td>\n",
              "      <td>Etobicoke</td>\n",
              "      <td>Old Mill South,  King's Mill Park,  Sunnylea, ...</td>\n",
              "    </tr>\n",
              "    <tr>\n",
              "      <th>102</th>\n",
              "      <td>M8Z</td>\n",
              "      <td>Etobicoke</td>\n",
              "      <td>Mimico NW,  The Queensway West,  South of Bloo...</td>\n",
              "    </tr>\n",
              "  </tbody>\n",
              "</table>\n",
              "<p>103 rows × 3 columns</p>\n",
              "</div>"
            ],
            "text/plain": [
              "    Postal Code  ...                                       Neighborhood\n",
              "0           M3A  ...                                          Parkwoods\n",
              "1           M4A  ...                                   Victoria Village\n",
              "2           M5A  ...                         Regent Park,  Harbourfront\n",
              "3           M6A  ...                  Lawrence Manor,  Lawrence Heights\n",
              "4           M7A  ...                      Ontario Provincial Government\n",
              "..          ...  ...                                                ...\n",
              "98          M8X  ...    The Kingsway,  Montgomery Road,  Old Mill North\n",
              "99          M4Y  ...                               Church and Wellesley\n",
              "100         M7Y  ...                                     Enclave of M4L\n",
              "101         M8Y  ...  Old Mill South,  King's Mill Park,  Sunnylea, ...\n",
              "102         M8Z  ...  Mimico NW,  The Queensway West,  South of Bloo...\n",
              "\n",
              "[103 rows x 3 columns]"
            ]
          },
          "metadata": {
            "tags": []
          },
          "execution_count": 32
        }
      ]
    },
    {
      "cell_type": "code",
      "metadata": {
        "colab": {
          "base_uri": "https://localhost:8080/"
        },
        "id": "MwiMrL943mIB",
        "outputId": "4350d381-8c46-4f6d-a214-af9c04927003"
      },
      "source": [
        "df.shape"
      ],
      "execution_count": 33,
      "outputs": [
        {
          "output_type": "execute_result",
          "data": {
            "text/plain": [
              "(103, 3)"
            ]
          },
          "metadata": {
            "tags": []
          },
          "execution_count": 33
        }
      ]
    },
    {
      "cell_type": "markdown",
      "metadata": {
        "id": "gzLhBBDjEFnS"
      },
      "source": [
        "---\n"
      ]
    },
    {
      "cell_type": "code",
      "metadata": {
        "colab": {
          "base_uri": "https://localhost:8080/"
        },
        "id": "ro2Gl9kgEKNa",
        "outputId": "cd6564b9-0ec8-4cd3-e8c3-ef8f54ae823a"
      },
      "source": [
        "!wget -O GeoSpatial_Dataset.csv https://cocl.us/Geospatial_data"
      ],
      "execution_count": 20,
      "outputs": [
        {
          "output_type": "stream",
          "text": [
            "--2021-04-19 12:24:45--  https://cocl.us/Geospatial_data\n",
            "Resolving cocl.us (cocl.us)... 52.116.127.226, 52.116.127.228\n",
            "Connecting to cocl.us (cocl.us)|52.116.127.226|:443... connected.\n",
            "HTTP request sent, awaiting response... 301 Moved Permanently\n",
            "Location: https://ibm.box.com/shared/static/9afzr83pps4pwf2smjjcf1y5mvgb18rr.csv [following]\n",
            "--2021-04-19 12:24:46--  https://ibm.box.com/shared/static/9afzr83pps4pwf2smjjcf1y5mvgb18rr.csv\n",
            "Resolving ibm.box.com (ibm.box.com)... 107.152.26.197\n",
            "Connecting to ibm.box.com (ibm.box.com)|107.152.26.197|:443... connected.\n",
            "HTTP request sent, awaiting response... 301 Moved Permanently\n",
            "Location: /public/static/9afzr83pps4pwf2smjjcf1y5mvgb18rr.csv [following]\n",
            "--2021-04-19 12:24:46--  https://ibm.box.com/public/static/9afzr83pps4pwf2smjjcf1y5mvgb18rr.csv\n",
            "Reusing existing connection to ibm.box.com:443.\n",
            "HTTP request sent, awaiting response... 301 Moved Permanently\n",
            "Location: https://ibm.ent.box.com/public/static/9afzr83pps4pwf2smjjcf1y5mvgb18rr.csv [following]\n",
            "--2021-04-19 12:24:47--  https://ibm.ent.box.com/public/static/9afzr83pps4pwf2smjjcf1y5mvgb18rr.csv\n",
            "Resolving ibm.ent.box.com (ibm.ent.box.com)... 107.152.26.201\n",
            "Connecting to ibm.ent.box.com (ibm.ent.box.com)|107.152.26.201|:443... connected.\n",
            "HTTP request sent, awaiting response... 302 Found\n",
            "Location: https://public.boxcloud.com/d/1/b1!8U6yVPrUrjcMcM3HhE-NW-V-eNSwdfn3utDFseINvEAhYMrhIX4Z9C7XdZyyHznIuOdq64yzfH9MH7Ynrm6iKIbOJaqbhssUWT6ZlmDnFjFrvj_wKaPmHPS34O779ckJyRzUYdWNAkcVLVt47p2q1cZw7xTShTb0914qjtSWXv50CpN5PcgwPC2cLL3JJGDc5MOg_6i_d_JVAu49WYRW-aw3v_Tro6tswAnE0XR-WG0T8A4MljEOuAvOKZJuvaDyZAL5EudgIdkTvogqtqO62IEAXN1L7c4AcuT3e3otJ7F4KcVhZ6OEkRF2sx6KzTY7TrrrSMSaF5SCmvLbprJigEYM8AOnCBeh9UZhkWlEKYo7oYrJ5m6_a37BTeYnekEz7SuL4kjw22efZSAC7M8vZL3aW-p79z8NSrbKJ5Fy_5K6XzUZLDKC2l01noiDLPJgqumPeq03LbIT74pT4gLEo0aF538ZZ_oNYEgpomqbFnpxEUI-JhBNIklZ7hmLSI2B0OoakhS-A4L8hr0QRD4MO2r4uCjMTNDSzWcgkz25x5cniyzahGKhY1znrCRj74PsrT6B6el75Q-61Bb6-Cw1R63I5heUtoffi92yA_Ym24hBdUYXB30COMe-tphVpYUIUQdgTFZsSLqIK8CXQv8BgL_bZr9_UAXBuLCb6_J239YR5WtPm73iIkqvIhpXwspcH1L90uXYYqaAhsKnajiUi-gldrsG502kGdr4IOw_DW0EtqkonakMGjtZIHpeR1zOe894Y1MB5YnoZN1EycUa0m2oOYWicjf5cxdo-Hv4ZVKJxwjAbrwt3Fo8KKJQj6L3HhxQ3RbG2iL1ZseDiIym5dekUA-YTgG5ThY-2gTFqBKaKi41c4RUB2ZPhYl8AYRfttDbjAJaazg9TQ7_fqWU5BMZIJTsiDjlpjaIyM7aSjoaBNHSjJs-KYyyCMbMVVXkUJOr5i7TqlmdTo3dvHArm4UMu4Mb48b-otwczNwJF53_Av-_EniXNtDCuu3aRYJSgAnvu0oSszuA4wmWV4AC0rgaD7mwYjF-ErDCla4IKXTI9mH9vpsAjCFwwFS_YrjSgv9EQn7IQGTE3RZOWblNoF__URU7xUBdUumNrVVWqG2c4X9o2TA0SV9DcLogifoQqAPacTvnWMXu3GfAUKFCOmdMqnSIYKlRaSvyxLZ5Gu565LSbU1CsAUuXqFHOROtJvf6zQuyt-k9cXpDjFNZQstXnmXmnN2TBFwptsX7KRnBtOQLdvwtn-enFkjsxvNA6HAz1skqKy4BAKo3cmOU6kkfsL4B3b0uBezEY7CnRnjm_25CHawaBsg3JLbdXd4jdQFBrEzqXFNaZBAS0U08htRfVDiYZn1QhhtALbaiSkmY6VCo8rpp1_xHfTdqwikUWU32H1atu0KedNYxT_m7PL88GidTSyrRLzpVJ7aW5AQlog7Jw3ugCniPJ7gwT03BAJwDBXHelIbvhq3o./download [following]\n",
            "--2021-04-19 12:24:47--  https://public.boxcloud.com/d/1/b1!8U6yVPrUrjcMcM3HhE-NW-V-eNSwdfn3utDFseINvEAhYMrhIX4Z9C7XdZyyHznIuOdq64yzfH9MH7Ynrm6iKIbOJaqbhssUWT6ZlmDnFjFrvj_wKaPmHPS34O779ckJyRzUYdWNAkcVLVt47p2q1cZw7xTShTb0914qjtSWXv50CpN5PcgwPC2cLL3JJGDc5MOg_6i_d_JVAu49WYRW-aw3v_Tro6tswAnE0XR-WG0T8A4MljEOuAvOKZJuvaDyZAL5EudgIdkTvogqtqO62IEAXN1L7c4AcuT3e3otJ7F4KcVhZ6OEkRF2sx6KzTY7TrrrSMSaF5SCmvLbprJigEYM8AOnCBeh9UZhkWlEKYo7oYrJ5m6_a37BTeYnekEz7SuL4kjw22efZSAC7M8vZL3aW-p79z8NSrbKJ5Fy_5K6XzUZLDKC2l01noiDLPJgqumPeq03LbIT74pT4gLEo0aF538ZZ_oNYEgpomqbFnpxEUI-JhBNIklZ7hmLSI2B0OoakhS-A4L8hr0QRD4MO2r4uCjMTNDSzWcgkz25x5cniyzahGKhY1znrCRj74PsrT6B6el75Q-61Bb6-Cw1R63I5heUtoffi92yA_Ym24hBdUYXB30COMe-tphVpYUIUQdgTFZsSLqIK8CXQv8BgL_bZr9_UAXBuLCb6_J239YR5WtPm73iIkqvIhpXwspcH1L90uXYYqaAhsKnajiUi-gldrsG502kGdr4IOw_DW0EtqkonakMGjtZIHpeR1zOe894Y1MB5YnoZN1EycUa0m2oOYWicjf5cxdo-Hv4ZVKJxwjAbrwt3Fo8KKJQj6L3HhxQ3RbG2iL1ZseDiIym5dekUA-YTgG5ThY-2gTFqBKaKi41c4RUB2ZPhYl8AYRfttDbjAJaazg9TQ7_fqWU5BMZIJTsiDjlpjaIyM7aSjoaBNHSjJs-KYyyCMbMVVXkUJOr5i7TqlmdTo3dvHArm4UMu4Mb48b-otwczNwJF53_Av-_EniXNtDCuu3aRYJSgAnvu0oSszuA4wmWV4AC0rgaD7mwYjF-ErDCla4IKXTI9mH9vpsAjCFwwFS_YrjSgv9EQn7IQGTE3RZOWblNoF__URU7xUBdUumNrVVWqG2c4X9o2TA0SV9DcLogifoQqAPacTvnWMXu3GfAUKFCOmdMqnSIYKlRaSvyxLZ5Gu565LSbU1CsAUuXqFHOROtJvf6zQuyt-k9cXpDjFNZQstXnmXmnN2TBFwptsX7KRnBtOQLdvwtn-enFkjsxvNA6HAz1skqKy4BAKo3cmOU6kkfsL4B3b0uBezEY7CnRnjm_25CHawaBsg3JLbdXd4jdQFBrEzqXFNaZBAS0U08htRfVDiYZn1QhhtALbaiSkmY6VCo8rpp1_xHfTdqwikUWU32H1atu0KedNYxT_m7PL88GidTSyrRLzpVJ7aW5AQlog7Jw3ugCniPJ7gwT03BAJwDBXHelIbvhq3o./download\n",
            "Resolving public.boxcloud.com (public.boxcloud.com)... 107.152.26.200\n",
            "Connecting to public.boxcloud.com (public.boxcloud.com)|107.152.26.200|:443... connected.\n",
            "HTTP request sent, awaiting response... 200 OK\n",
            "Length: 2891 (2.8K) [text/csv]\n",
            "Saving to: ‘GeoSpatial_Dataset.csv’\n",
            "\n",
            "GeoSpatial_Dataset. 100%[===================>]   2.82K  --.-KB/s    in 0s      \n",
            "\n",
            "2021-04-19 12:24:48 (396 MB/s) - ‘GeoSpatial_Dataset.csv’ saved [2891/2891]\n",
            "\n"
          ],
          "name": "stdout"
        }
      ]
    },
    {
      "cell_type": "markdown",
      "metadata": {
        "id": "bFrTVCAbI8Wb"
      },
      "source": [
        "Download the dataset regarding the latitude and longitude of the Toronto postal code. Because if you use the geocoder package it takes a very long time."
      ]
    },
    {
      "cell_type": "code",
      "metadata": {
        "id": "WSs3WkjBEhai"
      },
      "source": [
        "df_geo = pd.read_csv('GeoSpatial_Dataset.csv')"
      ],
      "execution_count": 21,
      "outputs": []
    },
    {
      "cell_type": "code",
      "metadata": {
        "colab": {
          "base_uri": "https://localhost:8080/",
          "height": 195
        },
        "id": "8jchL1MZF8nO",
        "outputId": "92e10036-88c8-4ced-814c-4a53aedae8e6"
      },
      "source": [
        "df_geo.head()"
      ],
      "execution_count": 39,
      "outputs": [
        {
          "output_type": "execute_result",
          "data": {
            "text/html": [
              "<div>\n",
              "<style scoped>\n",
              "    .dataframe tbody tr th:only-of-type {\n",
              "        vertical-align: middle;\n",
              "    }\n",
              "\n",
              "    .dataframe tbody tr th {\n",
              "        vertical-align: top;\n",
              "    }\n",
              "\n",
              "    .dataframe thead th {\n",
              "        text-align: right;\n",
              "    }\n",
              "</style>\n",
              "<table border=\"1\" class=\"dataframe\">\n",
              "  <thead>\n",
              "    <tr style=\"text-align: right;\">\n",
              "      <th></th>\n",
              "      <th>Postal Code</th>\n",
              "      <th>Latitude</th>\n",
              "      <th>Longitude</th>\n",
              "    </tr>\n",
              "  </thead>\n",
              "  <tbody>\n",
              "    <tr>\n",
              "      <th>0</th>\n",
              "      <td>M1B</td>\n",
              "      <td>43.806686</td>\n",
              "      <td>-79.194353</td>\n",
              "    </tr>\n",
              "    <tr>\n",
              "      <th>1</th>\n",
              "      <td>M1C</td>\n",
              "      <td>43.784535</td>\n",
              "      <td>-79.160497</td>\n",
              "    </tr>\n",
              "    <tr>\n",
              "      <th>2</th>\n",
              "      <td>M1E</td>\n",
              "      <td>43.763573</td>\n",
              "      <td>-79.188711</td>\n",
              "    </tr>\n",
              "    <tr>\n",
              "      <th>3</th>\n",
              "      <td>M1G</td>\n",
              "      <td>43.770992</td>\n",
              "      <td>-79.216917</td>\n",
              "    </tr>\n",
              "    <tr>\n",
              "      <th>4</th>\n",
              "      <td>M1H</td>\n",
              "      <td>43.773136</td>\n",
              "      <td>-79.239476</td>\n",
              "    </tr>\n",
              "  </tbody>\n",
              "</table>\n",
              "</div>"
            ],
            "text/plain": [
              "  Postal Code   Latitude  Longitude\n",
              "0         M1B  43.806686 -79.194353\n",
              "1         M1C  43.784535 -79.160497\n",
              "2         M1E  43.763573 -79.188711\n",
              "3         M1G  43.770992 -79.216917\n",
              "4         M1H  43.773136 -79.239476"
            ]
          },
          "metadata": {
            "tags": []
          },
          "execution_count": 39
        }
      ]
    },
    {
      "cell_type": "code",
      "metadata": {
        "colab": {
          "base_uri": "https://localhost:8080/"
        },
        "id": "lsgVl2M6IiIx",
        "outputId": "f9988022-2da8-4feb-f524-2d0981fa1963"
      },
      "source": [
        "df_geo.shape"
      ],
      "execution_count": 41,
      "outputs": [
        {
          "output_type": "execute_result",
          "data": {
            "text/plain": [
              "(103, 3)"
            ]
          },
          "metadata": {
            "tags": []
          },
          "execution_count": 41
        }
      ]
    },
    {
      "cell_type": "markdown",
      "metadata": {
        "id": "70EOLP6OJZdS"
      },
      "source": [
        "It can be seen that the geospatial dataset has the same amount of data as the previous data, namely the postal code data in Toronto regarding the borough and neighborhood."
      ]
    },
    {
      "cell_type": "code",
      "metadata": {
        "id": "4ofrOJlEF-Gq"
      },
      "source": [
        "df_merge = df.merge(df_geo, how='inner', on='Postal Code')"
      ],
      "execution_count": 37,
      "outputs": []
    },
    {
      "cell_type": "markdown",
      "metadata": {
        "id": "g2ZhncilJvGT"
      },
      "source": [
        "The dataset is combined with a key value in the form of a Postal code. or if you are familiar with SQL then the term uses an inner join with a key in the form of a Postal Code"
      ]
    },
    {
      "cell_type": "code",
      "metadata": {
        "colab": {
          "base_uri": "https://localhost:8080/",
          "height": 402
        },
        "id": "4tV0Vxq_IN_S",
        "outputId": "80d8a789-e881-484c-bfde-b24e4a5efa31"
      },
      "source": [
        "df_merge"
      ],
      "execution_count": 38,
      "outputs": [
        {
          "output_type": "execute_result",
          "data": {
            "text/html": [
              "<div>\n",
              "<style scoped>\n",
              "    .dataframe tbody tr th:only-of-type {\n",
              "        vertical-align: middle;\n",
              "    }\n",
              "\n",
              "    .dataframe tbody tr th {\n",
              "        vertical-align: top;\n",
              "    }\n",
              "\n",
              "    .dataframe thead th {\n",
              "        text-align: right;\n",
              "    }\n",
              "</style>\n",
              "<table border=\"1\" class=\"dataframe\">\n",
              "  <thead>\n",
              "    <tr style=\"text-align: right;\">\n",
              "      <th></th>\n",
              "      <th>Postal Code</th>\n",
              "      <th>Borough</th>\n",
              "      <th>Neighborhood</th>\n",
              "      <th>Latitude</th>\n",
              "      <th>Longitude</th>\n",
              "    </tr>\n",
              "  </thead>\n",
              "  <tbody>\n",
              "    <tr>\n",
              "      <th>0</th>\n",
              "      <td>M3A</td>\n",
              "      <td>North York</td>\n",
              "      <td>Parkwoods</td>\n",
              "      <td>43.753259</td>\n",
              "      <td>-79.329656</td>\n",
              "    </tr>\n",
              "    <tr>\n",
              "      <th>1</th>\n",
              "      <td>M4A</td>\n",
              "      <td>North York</td>\n",
              "      <td>Victoria Village</td>\n",
              "      <td>43.725882</td>\n",
              "      <td>-79.315572</td>\n",
              "    </tr>\n",
              "    <tr>\n",
              "      <th>2</th>\n",
              "      <td>M5A</td>\n",
              "      <td>Downtown Toronto</td>\n",
              "      <td>Regent Park,  Harbourfront</td>\n",
              "      <td>43.654260</td>\n",
              "      <td>-79.360636</td>\n",
              "    </tr>\n",
              "    <tr>\n",
              "      <th>3</th>\n",
              "      <td>M6A</td>\n",
              "      <td>North York</td>\n",
              "      <td>Lawrence Manor,  Lawrence Heights</td>\n",
              "      <td>43.718518</td>\n",
              "      <td>-79.464763</td>\n",
              "    </tr>\n",
              "    <tr>\n",
              "      <th>4</th>\n",
              "      <td>M7A</td>\n",
              "      <td>Queen's Park</td>\n",
              "      <td>Ontario Provincial Government</td>\n",
              "      <td>43.662301</td>\n",
              "      <td>-79.389494</td>\n",
              "    </tr>\n",
              "    <tr>\n",
              "      <th>...</th>\n",
              "      <td>...</td>\n",
              "      <td>...</td>\n",
              "      <td>...</td>\n",
              "      <td>...</td>\n",
              "      <td>...</td>\n",
              "    </tr>\n",
              "    <tr>\n",
              "      <th>98</th>\n",
              "      <td>M8X</td>\n",
              "      <td>Etobicoke</td>\n",
              "      <td>The Kingsway,  Montgomery Road,  Old Mill North</td>\n",
              "      <td>43.653654</td>\n",
              "      <td>-79.506944</td>\n",
              "    </tr>\n",
              "    <tr>\n",
              "      <th>99</th>\n",
              "      <td>M4Y</td>\n",
              "      <td>Downtown Toronto</td>\n",
              "      <td>Church and Wellesley</td>\n",
              "      <td>43.665860</td>\n",
              "      <td>-79.383160</td>\n",
              "    </tr>\n",
              "    <tr>\n",
              "      <th>100</th>\n",
              "      <td>M7Y</td>\n",
              "      <td>East Toronto Business</td>\n",
              "      <td>Enclave of M4L</td>\n",
              "      <td>43.662744</td>\n",
              "      <td>-79.321558</td>\n",
              "    </tr>\n",
              "    <tr>\n",
              "      <th>101</th>\n",
              "      <td>M8Y</td>\n",
              "      <td>Etobicoke</td>\n",
              "      <td>Old Mill South,  King's Mill Park,  Sunnylea, ...</td>\n",
              "      <td>43.636258</td>\n",
              "      <td>-79.498509</td>\n",
              "    </tr>\n",
              "    <tr>\n",
              "      <th>102</th>\n",
              "      <td>M8Z</td>\n",
              "      <td>Etobicoke</td>\n",
              "      <td>Mimico NW,  The Queensway West,  South of Bloo...</td>\n",
              "      <td>43.628841</td>\n",
              "      <td>-79.520999</td>\n",
              "    </tr>\n",
              "  </tbody>\n",
              "</table>\n",
              "<p>103 rows × 5 columns</p>\n",
              "</div>"
            ],
            "text/plain": [
              "    Postal Code                Borough  ...   Latitude  Longitude\n",
              "0           M3A             North York  ...  43.753259 -79.329656\n",
              "1           M4A             North York  ...  43.725882 -79.315572\n",
              "2           M5A       Downtown Toronto  ...  43.654260 -79.360636\n",
              "3           M6A             North York  ...  43.718518 -79.464763\n",
              "4           M7A           Queen's Park  ...  43.662301 -79.389494\n",
              "..          ...                    ...  ...        ...        ...\n",
              "98          M8X              Etobicoke  ...  43.653654 -79.506944\n",
              "99          M4Y       Downtown Toronto  ...  43.665860 -79.383160\n",
              "100         M7Y  East Toronto Business  ...  43.662744 -79.321558\n",
              "101         M8Y              Etobicoke  ...  43.636258 -79.498509\n",
              "102         M8Z              Etobicoke  ...  43.628841 -79.520999\n",
              "\n",
              "[103 rows x 5 columns]"
            ]
          },
          "metadata": {
            "tags": []
          },
          "execution_count": 38
        }
      ]
    },
    {
      "cell_type": "code",
      "metadata": {
        "colab": {
          "base_uri": "https://localhost:8080/"
        },
        "id": "oTF_4V5FIXIm",
        "outputId": "368f9e07-12b1-4619-daba-a5ec41c9e1cd"
      },
      "source": [
        "df_merge.shape"
      ],
      "execution_count": 42,
      "outputs": [
        {
          "output_type": "execute_result",
          "data": {
            "text/plain": [
              "(103, 5)"
            ]
          },
          "metadata": {
            "tags": []
          },
          "execution_count": 42
        }
      ]
    },
    {
      "cell_type": "code",
      "metadata": {
        "id": "qE4OsanwInZt"
      },
      "source": [
        ""
      ],
      "execution_count": null,
      "outputs": []
    }
  ]
}