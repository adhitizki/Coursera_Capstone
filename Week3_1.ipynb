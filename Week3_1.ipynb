{
  "nbformat": 4,
  "nbformat_minor": 0,
  "metadata": {
    "colab": {
      "name": "Week3_1.ipynb",
      "provenance": []
    },
    "kernelspec": {
      "name": "python3",
      "display_name": "Python 3"
    },
    "language_info": {
      "name": "python"
    }
  },
  "cells": [
    {
      "cell_type": "code",
      "metadata": {
        "id": "e12kTRXHQiJX"
      },
      "source": [
        "import pandas as pd\n",
        "import requests\n",
        "from bs4 import BeautifulSoup"
      ],
      "execution_count": 1,
      "outputs": []
    },
    {
      "cell_type": "code",
      "metadata": {
        "id": "Wbh0qsvRQn1n"
      },
      "source": [
        "url = 'https://en.wikipedia.org/wiki/List_of_postal_codes_of_Canada:_M'\n",
        "html_data = requests.get(url).text"
      ],
      "execution_count": 2,
      "outputs": []
    },
    {
      "cell_type": "markdown",
      "metadata": {
        "id": "p5GSyCNr4iNU"
      },
      "source": [
        "Get Toronto postal code data from wikipedia with the url above"
      ]
    },
    {
      "cell_type": "code",
      "metadata": {
        "id": "7q_bv_GxQnzI"
      },
      "source": [
        "soup = BeautifulSoup(html_data,'html5lib')"
      ],
      "execution_count": 3,
      "outputs": []
    },
    {
      "cell_type": "markdown",
      "metadata": {
        "id": "IChBBxVY4hzi"
      },
      "source": [
        "Using the BeautifulSoup library to perform web scraping on the specified url page"
      ]
    },
    {
      "cell_type": "code",
      "metadata": {
        "id": "xyfIgT_yfVc9"
      },
      "source": [
        "raw = []\n",
        "for row in soup.find('table').find_all('td'):\n",
        "  raw_row = {}\n",
        "  if row.find('span').text == 'Not assigned':\n",
        "    pass\n",
        "\n",
        "  else:    \n",
        "    var = row.find('span').text.split('(')\n",
        "\n",
        "    raw_row['Postal Code'] = row.find('b').text\n",
        "    raw_row['Borough'] = var[0]\n",
        "    raw_row['Neighborhood'] = var[1]\n",
        "\n",
        "    raw.append(raw_row)"
      ],
      "execution_count": 4,
      "outputs": []
    },
    {
      "cell_type": "markdown",
      "metadata": {
        "id": "u87wSAtp4f0c"
      },
      "source": [
        "It can be seen that the data you want to get is in the table, in the table it can be seen that in the span group there are borough and neighborhood, while for the Postal Code it is in the first 'b' group."
      ]
    },
    {
      "cell_type": "code",
      "metadata": {
        "colab": {
          "base_uri": "https://localhost:8080/",
          "height": 195
        },
        "id": "eKntG2OA6aNL",
        "outputId": "3bfe906c-b43a-481d-de54-402d9613f4fe"
      },
      "source": [
        "df = pd.DataFrame(raw)\n",
        "df.head()"
      ],
      "execution_count": 5,
      "outputs": [
        {
          "output_type": "execute_result",
          "data": {
            "text/html": [
              "<div>\n",
              "<style scoped>\n",
              "    .dataframe tbody tr th:only-of-type {\n",
              "        vertical-align: middle;\n",
              "    }\n",
              "\n",
              "    .dataframe tbody tr th {\n",
              "        vertical-align: top;\n",
              "    }\n",
              "\n",
              "    .dataframe thead th {\n",
              "        text-align: right;\n",
              "    }\n",
              "</style>\n",
              "<table border=\"1\" class=\"dataframe\">\n",
              "  <thead>\n",
              "    <tr style=\"text-align: right;\">\n",
              "      <th></th>\n",
              "      <th>Postal Code</th>\n",
              "      <th>Borough</th>\n",
              "      <th>Neighborhood</th>\n",
              "    </tr>\n",
              "  </thead>\n",
              "  <tbody>\n",
              "    <tr>\n",
              "      <th>0</th>\n",
              "      <td>M3A</td>\n",
              "      <td>North York</td>\n",
              "      <td>Parkwoods)</td>\n",
              "    </tr>\n",
              "    <tr>\n",
              "      <th>1</th>\n",
              "      <td>M4A</td>\n",
              "      <td>North York</td>\n",
              "      <td>Victoria Village)</td>\n",
              "    </tr>\n",
              "    <tr>\n",
              "      <th>2</th>\n",
              "      <td>M5A</td>\n",
              "      <td>Downtown Toronto</td>\n",
              "      <td>Regent Park / Harbourfront)</td>\n",
              "    </tr>\n",
              "    <tr>\n",
              "      <th>3</th>\n",
              "      <td>M6A</td>\n",
              "      <td>North York</td>\n",
              "      <td>Lawrence Manor / Lawrence Heights)</td>\n",
              "    </tr>\n",
              "    <tr>\n",
              "      <th>4</th>\n",
              "      <td>M7A</td>\n",
              "      <td>Queen's Park</td>\n",
              "      <td>Ontario Provincial Government)</td>\n",
              "    </tr>\n",
              "  </tbody>\n",
              "</table>\n",
              "</div>"
            ],
            "text/plain": [
              "  Postal Code           Borough                        Neighborhood\n",
              "0         M3A        North York                          Parkwoods)\n",
              "1         M4A        North York                   Victoria Village)\n",
              "2         M5A  Downtown Toronto         Regent Park / Harbourfront)\n",
              "3         M6A        North York  Lawrence Manor / Lawrence Heights)\n",
              "4         M7A      Queen's Park      Ontario Provincial Government)"
            ]
          },
          "metadata": {
            "tags": []
          },
          "execution_count": 5
        }
      ]
    },
    {
      "cell_type": "code",
      "metadata": {
        "id": "4XJK4-RCp1g0"
      },
      "source": [
        "df['Neighborhood'] = df['Neighborhood'].str.replace(r'\\)$|\\s$','').str.replace(r'\\)',' ').str.replace(r'\\s/',', ')\n",
        "df['Borough'] = df['Borough'].replace({\n",
        "    'Downtown TorontoStn A PO Boxes25 The Esplanade':'Downtown Toronto Stn A',\n",
        "    'East TorontoBusiness reply mail Processing Centre969 Eastern':'East Toronto Business',\n",
        "    'EtobicokeNorthwest':'Etobicoke Northwest',\n",
        "    'East YorkEast Toronto':'East York/East Toronto',\n",
        "    'MississaugaCanada Post Gateway Processing Centre':'Mississauga'\n",
        "    })"
      ],
      "execution_count": 6,
      "outputs": []
    },
    {
      "cell_type": "markdown",
      "metadata": {
        "id": "LXP6o_Lc4gXz"
      },
      "source": [
        "Neighborhood features are still very dirty with ')', '/', ''. Therefore, it is cleaned and tidied using replace and regex.\n",
        "For Borough, there are some data that are not suitable, such as PO Boxes and others, so they need to be filtered and replaced with the appropriate data "
      ]
    },
    {
      "cell_type": "code",
      "metadata": {
        "colab": {
          "base_uri": "https://localhost:8080/",
          "height": 402
        },
        "id": "uLzwuJrr2_1R",
        "outputId": "ee75bfd8-705a-486d-fd48-23376267c1f8"
      },
      "source": [
        "df"
      ],
      "execution_count": 7,
      "outputs": [
        {
          "output_type": "execute_result",
          "data": {
            "text/html": [
              "<div>\n",
              "<style scoped>\n",
              "    .dataframe tbody tr th:only-of-type {\n",
              "        vertical-align: middle;\n",
              "    }\n",
              "\n",
              "    .dataframe tbody tr th {\n",
              "        vertical-align: top;\n",
              "    }\n",
              "\n",
              "    .dataframe thead th {\n",
              "        text-align: right;\n",
              "    }\n",
              "</style>\n",
              "<table border=\"1\" class=\"dataframe\">\n",
              "  <thead>\n",
              "    <tr style=\"text-align: right;\">\n",
              "      <th></th>\n",
              "      <th>Postal Code</th>\n",
              "      <th>Borough</th>\n",
              "      <th>Neighborhood</th>\n",
              "    </tr>\n",
              "  </thead>\n",
              "  <tbody>\n",
              "    <tr>\n",
              "      <th>0</th>\n",
              "      <td>M3A</td>\n",
              "      <td>North York</td>\n",
              "      <td>Parkwoods</td>\n",
              "    </tr>\n",
              "    <tr>\n",
              "      <th>1</th>\n",
              "      <td>M4A</td>\n",
              "      <td>North York</td>\n",
              "      <td>Victoria Village</td>\n",
              "    </tr>\n",
              "    <tr>\n",
              "      <th>2</th>\n",
              "      <td>M5A</td>\n",
              "      <td>Downtown Toronto</td>\n",
              "      <td>Regent Park,  Harbourfront</td>\n",
              "    </tr>\n",
              "    <tr>\n",
              "      <th>3</th>\n",
              "      <td>M6A</td>\n",
              "      <td>North York</td>\n",
              "      <td>Lawrence Manor,  Lawrence Heights</td>\n",
              "    </tr>\n",
              "    <tr>\n",
              "      <th>4</th>\n",
              "      <td>M7A</td>\n",
              "      <td>Queen's Park</td>\n",
              "      <td>Ontario Provincial Government</td>\n",
              "    </tr>\n",
              "    <tr>\n",
              "      <th>...</th>\n",
              "      <td>...</td>\n",
              "      <td>...</td>\n",
              "      <td>...</td>\n",
              "    </tr>\n",
              "    <tr>\n",
              "      <th>98</th>\n",
              "      <td>M8X</td>\n",
              "      <td>Etobicoke</td>\n",
              "      <td>The Kingsway,  Montgomery Road,  Old Mill North</td>\n",
              "    </tr>\n",
              "    <tr>\n",
              "      <th>99</th>\n",
              "      <td>M4Y</td>\n",
              "      <td>Downtown Toronto</td>\n",
              "      <td>Church and Wellesley</td>\n",
              "    </tr>\n",
              "    <tr>\n",
              "      <th>100</th>\n",
              "      <td>M7Y</td>\n",
              "      <td>East Toronto Business</td>\n",
              "      <td>Enclave of M4L</td>\n",
              "    </tr>\n",
              "    <tr>\n",
              "      <th>101</th>\n",
              "      <td>M8Y</td>\n",
              "      <td>Etobicoke</td>\n",
              "      <td>Old Mill South,  King's Mill Park,  Sunnylea, ...</td>\n",
              "    </tr>\n",
              "    <tr>\n",
              "      <th>102</th>\n",
              "      <td>M8Z</td>\n",
              "      <td>Etobicoke</td>\n",
              "      <td>Mimico NW,  The Queensway West,  South of Bloo...</td>\n",
              "    </tr>\n",
              "  </tbody>\n",
              "</table>\n",
              "<p>103 rows × 3 columns</p>\n",
              "</div>"
            ],
            "text/plain": [
              "    Postal Code  ...                                       Neighborhood\n",
              "0           M3A  ...                                          Parkwoods\n",
              "1           M4A  ...                                   Victoria Village\n",
              "2           M5A  ...                         Regent Park,  Harbourfront\n",
              "3           M6A  ...                  Lawrence Manor,  Lawrence Heights\n",
              "4           M7A  ...                      Ontario Provincial Government\n",
              "..          ...  ...                                                ...\n",
              "98          M8X  ...    The Kingsway,  Montgomery Road,  Old Mill North\n",
              "99          M4Y  ...                               Church and Wellesley\n",
              "100         M7Y  ...                                     Enclave of M4L\n",
              "101         M8Y  ...  Old Mill South,  King's Mill Park,  Sunnylea, ...\n",
              "102         M8Z  ...  Mimico NW,  The Queensway West,  South of Bloo...\n",
              "\n",
              "[103 rows x 3 columns]"
            ]
          },
          "metadata": {
            "tags": []
          },
          "execution_count": 7
        }
      ]
    },
    {
      "cell_type": "code",
      "metadata": {
        "colab": {
          "base_uri": "https://localhost:8080/"
        },
        "id": "MwiMrL943mIB",
        "outputId": "d3eb0fb3-8939-42cf-b110-3eafdbda5581"
      },
      "source": [
        "df.shape"
      ],
      "execution_count": 8,
      "outputs": [
        {
          "output_type": "execute_result",
          "data": {
            "text/plain": [
              "(103, 3)"
            ]
          },
          "metadata": {
            "tags": []
          },
          "execution_count": 8
        }
      ]
    },
    {
      "cell_type": "code",
      "metadata": {
        "id": "N2wJe2Vl4KRr"
      },
      "source": [
        ""
      ],
      "execution_count": 8,
      "outputs": []
    }
  ]
}